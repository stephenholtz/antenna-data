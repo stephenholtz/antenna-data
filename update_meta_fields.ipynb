{
 "cells": [
  {
   "cell_type": "markdown",
   "metadata": {},
   "source": [
    "Scratchwork for updating metadata fields to reflect newest version of experiment and harmonize import into database. \n",
    "\n",
    "* Using AWS and rclone to sync **FROM:s3 TO:local** (using exclude file):\n",
    "    * `rclone sync antenna-aws:antenna-fs ~/data/antenna-fs -P --exclude-from sync_exclude.txt --dry-run`\n",
    "* Sync **FROM:local TO:s3** using an exclude file (using exclude file):\n",
    "    * `rclone sync ~/data/antenna-fs antenna-aws:antenna-fs -P --exclude-from sync_exclude.txt --dry-run`\n",
    "* remove `--dry-run` after testing"
   ]
  },
  {
   "cell_type": "code",
   "execution_count": null,
   "metadata": {},
   "outputs": [],
   "source": [
    "import json\n",
    "import tqdm\n",
    "from itertools import chain\n",
    "from pathlib import Path"
   ]
  },
  {
   "cell_type": "code",
   "execution_count": null,
   "metadata": {},
   "outputs": [],
   "source": [
    "%pdb on"
   ]
  },
  {
   "cell_type": "markdown",
   "metadata": {},
   "source": [
    "Add `probe_angle` field to metadata since it may now change with a new platform/holder."
   ]
  },
  {
   "cell_type": "code",
   "execution_count": null,
   "metadata": {},
   "outputs": [],
   "source": [
    "data_path = Path('~/data/antenna-fs/').expanduser()\n",
    "session_json_paths = data_path.glob('*/exp_ephys_*/*/session.json')\n",
    "\n",
    "for session_json_path in tqdm.tqdm(session_json_paths):\n",
    "    session_meta = json.load(session_json_path.open())\n",
    "    if not 'probe_angle' in session_meta.keys():\n",
    "        session_meta.update({'probe_angle': 15})\n",
    "        with open(session_json_path.as_posix(), 'w') as file:\n",
    "            json.dump(session_meta, file, indent=4) # matches formatting from matlab"
   ]
  },
  {
   "cell_type": "markdown",
   "metadata": {},
   "source": [
    "Rename `params_hash_piezo` to `stim_hash_piezo` in all files where it is required"
   ]
  },
  {
   "cell_type": "code",
   "execution_count": null,
   "metadata": {},
   "outputs": [],
   "source": [
    "data_path = Path('~/data/antenna-fs/').expanduser().joinpath('raw')\n",
    "trial_json_paths = data_path.glob('exp_ephys_*/session_*/*/*.json')\n",
    "\n",
    "for trial_json_path in tqdm.tqdm(trial_json_paths):\n",
    "    # rsync/osx garbage\n",
    "    if trial_json_path.parts[-1][0] != '.':\n",
    "        trial_meta = json.load(open(trial_json_path))\n",
    "        if not 'stim_hash_piezo' in trial_meta.keys():\n",
    "            trial_meta.update({'stim_hash_piezo': trial_meta['params_hash_piezo']})\n",
    "            trial_meta.pop('params_hash_piezo')\n",
    "\n",
    "            with open(trial_json_path.as_posix(), 'w') as file:\n",
    "                json.dump(trial_meta, file, indent=4) # matches formatting from matlab"
   ]
  },
  {
   "cell_type": "markdown",
   "metadata": {},
   "source": [
    "Add `antenna_side` because (yay!) I can now choose based on driver line. All old experiments in this dataset (so, NOT suction electrode experiments) use the _fly's_ right side. "
   ]
  },
  {
   "cell_type": "code",
   "execution_count": null,
   "metadata": {},
   "outputs": [],
   "source": [
    "data_path = Path('~/data/antenna-fs/').expanduser()\n",
    "session_json_paths = data_path.glob('*/exp_ephys_*/*/session.json')\n",
    "\n",
    "for session_json_path in tqdm.tqdm(session_json_paths):\n",
    "    session_meta = json.load(session_json_path.open())\n",
    "    if not 'antenna_side' in session_meta.keys():\n",
    "        session_meta.update({'antenna_side': 'right'})\n",
    "        with open(session_json_path.as_posix(), 'w') as file:\n",
    "            json.dump(session_meta, file, indent=4) # matches formatting from matlab"
   ]
  },
  {
   "cell_type": "code",
   "execution_count": null,
   "metadata": {},
   "outputs": [],
   "source": []
  }
 ],
 "metadata": {
  "kernelspec": {
   "display_name": "Python 3",
   "language": "python",
   "name": "python3"
  },
  "language_info": {
   "codemirror_mode": {
    "name": "ipython",
    "version": 3
   },
   "file_extension": ".py",
   "mimetype": "text/x-python",
   "name": "python",
   "nbconvert_exporter": "python",
   "pygments_lexer": "ipython3",
   "version": "3.8.6"
  }
 },
 "nbformat": 4,
 "nbformat_minor": 4
}
