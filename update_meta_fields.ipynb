{
 "cells": [
  {
   "cell_type": "markdown",
   "metadata": {},
   "source": [
    "Scratchwork and loose record keeping for how I have been updating metadata fields to reflect newest version of experiment and harmonize import into database. \n",
    "\n",
    "* Using AWS and rclone to sync **FROM:s3 TO:local** (using exclude file):\n",
    "    * `rclone sync antenna-aws:antenna-fs ~/data/antenna-fs --verbose -P --exclude-from sync_exclude.txt --dry-run`\n",
    "* Sync **FROM:local TO:s3** using an exclude file (using exclude file):\n",
    "    * `rclone sync ~/data/antenna-fs antenna-aws:antenna-fs --verbose -P --exclude-from sync_exclude.txt --dry-run`\n",
    "* remove `--dry-run` after testing"
   ]
  },
  {
   "cell_type": "code",
   "execution_count": 1,
   "metadata": {},
   "outputs": [],
   "source": [
    "import json\n",
    "import tqdm\n",
    "from itertools import chain\n",
    "from pathlib import Path"
   ]
  },
  {
   "cell_type": "code",
   "execution_count": 26,
   "metadata": {},
   "outputs": [
    {
     "name": "stdout",
     "output_type": "stream",
     "text": [
      "Automatic pdb calling has been turned OFF\n"
     ]
    }
   ],
   "source": [
    "%pdb off"
   ]
  },
  {
   "cell_type": "markdown",
   "metadata": {},
   "source": [
    "Add `probe_angle` field to metadata since it may now change with a new platform/holder."
   ]
  },
  {
   "cell_type": "markdown",
   "metadata": {},
   "source": [
    "```\n",
    "data_path = Path('~/data/antenna-fs/').expanduser()\n",
    "session_json_paths = data_path.glob('*/exp_ephys_*/*/session.json')\n",
    "\n",
    "for session_json_path in tqdm.tqdm(session_json_paths):\n",
    "    session_meta = json.load(session_json_path.open())\n",
    "    if not 'probe_angle' in session_meta.keys():\n",
    "        session_meta.update({'probe_angle': 15})\n",
    "        with open(session_json_path.as_posix(), 'w') as file:\n",
    "            json.dump(session_meta, file, indent=4) # matches formatting from matlab\n",
    "```"
   ]
  },
  {
   "cell_type": "markdown",
   "metadata": {},
   "source": [
    "Rename `params_hash_piezo` to `stim_hash_piezo` in all files where it is required"
   ]
  },
  {
   "cell_type": "markdown",
   "metadata": {},
   "source": [
    "```\n",
    "data_path = Path('~/data/antenna-fs/').expanduser().joinpath('raw')\n",
    "trial_json_paths = data_path.glob('exp_ephys_*/session_*/*/*.json')\n",
    "\n",
    "for trial_json_path in tqdm.tqdm(trial_json_paths):\n",
    "    # rsync/osx garbage\n",
    "    if trial_json_path.parts[-1][0] != '.':\n",
    "        trial_meta = json.load(open(trial_json_path))\n",
    "        if not 'stim_hash_piezo' in trial_meta.keys():\n",
    "            trial_meta.update({'stim_hash_piezo': trial_meta['params_hash_piezo']})\n",
    "            trial_meta.pop('params_hash_piezo')\n",
    "\n",
    "            with open(trial_json_path.as_posix(), 'w') as file:\n",
    "                json.dump(trial_meta, file, indent=4) # matches formatting from matlab\n",
    "```"
   ]
  },
  {
   "cell_type": "markdown",
   "metadata": {},
   "source": [
    "Add `antenna_side` because (yay!) I can now choose based on driver line. All old experiments in this dataset (so, NOT suction electrode experiments) use the _fly's_ right side. "
   ]
  },
  {
   "cell_type": "markdown",
   "metadata": {},
   "source": [
    "```\n",
    "data_path = Path('~/data/antenna-fs/').expanduser()\n",
    "session_json_paths = data_path.glob('*/exp_ephys_*/*/session.json')\n",
    "\n",
    "for session_json_path in tqdm.tqdm(session_json_paths):\n",
    "    session_meta = json.load(session_json_path.open())\n",
    "    if not 'antenna_side' in session_meta.keys():\n",
    "        session_meta.update({'antenna_side': 'right'})\n",
    "        with open(session_json_path.as_posix(), 'w') as file:\n",
    "            json.dump(session_meta, file, indent=4) # matches formatting from matlab\n",
    "```"
   ]
  },
  {
   "cell_type": "markdown",
   "metadata": {},
   "source": [
    "Add `physiology_objective` field to metadata since it affects probe travel calculation and multiple have now been used. (will manually edit the json files where I have used a different objective before syncing)"
   ]
  },
  {
   "cell_type": "markdown",
   "metadata": {},
   "source": [
    "```\n",
    "data_path = Path('~/data/antenna-fs/').expanduser()\n",
    "session_json_paths = data_path.glob('*/exp_ephys_*/*/session.json')\n",
    "\n",
    "for session_json_path in tqdm.tqdm(session_json_paths):\n",
    "    session_meta = json.load(session_json_path.open())\n",
    "    if not 'physiology_objective' in session_meta.keys():\n",
    "        session_meta.update({'physiology_objective': 'OLYMPUS_LUMFLN60XW'})  # other is 'OLYMPUS_LUMPLFLN40XW'\n",
    "        with open(session_json_path.as_posix(), 'w') as file:\n",
    "            json.dump(session_meta, file, indent=4) # matches formatting from matlab\n",
    "```"
   ]
  },
  {
   "cell_type": "markdown",
   "metadata": {},
   "source": [
    "Change from a `use_ignore_trials.json` to a `trial_id_flags.csv` file with all of the `trial_ids` and 0 vs 1 for each"
   ]
  },
  {
   "cell_type": "markdown",
   "metadata": {},
   "source": [
    "```\n",
    "import os\n",
    "import pandas as pd\n",
    "import numpy as np\n",
    "\n",
    "data_path = Path('~/data/antenna-fs/').expanduser()\n",
    "use_ignore_json_paths = data_path.glob('*/exp_ephys_*/*/use_ignore_trials.json')\n",
    "\n",
    "for use_ignore_json_path in use_ignore_json_paths:\n",
    "    # gather all the trial ids...\n",
    "    trial_meta_paths = use_ignore_json_path.parent.glob('./*/*.json')\n",
    "\n",
    "    trial_ids = np.sort([json.load(trial_meta_path.open())['trial_id'] for trial_meta_path in trial_meta_paths])\n",
    "\n",
    "    use_ignore_dict = json.load(use_ignore_json_path.open())\n",
    "\n",
    "    use_df = pd.DataFrame(data={'trial_id': trial_ids, 'use_flag': np.ones_like(trial_ids)})\n",
    "\n",
    "    if use_ignore_dict['start_trial'] > 0:\n",
    "        use_df.loc[use_df.trial_id<use_ignore_dict['start_trial'], 'use_flag'] = 0\n",
    "\n",
    "    if use_ignore_dict['end_trial'] != -1:\n",
    "        use_df.loc[use_df.trial_id>use_ignore_dict['end_trial'], 'use_flag'] = 0\n",
    "\n",
    "    if len(use_ignore_dict['ignore_trials']) > 0:\n",
    "        for trial_id in use_ignore_dict['ignore_trials']:\n",
    "            use_df.loc[use_df.trial_id==trial_id, 'use_flag'] = 0\n",
    "\n",
    "    # set the calibration trials and unstructured to use_flag = 1 by default\n",
    "    for folder in ['camera_calibration','unstructured_recordings']:\n",
    "        calib_json_paths = use_ignore_json_path.parent.glob('./'+folder+'/*.json')\n",
    "        calib_trial_ids = np.sort([json.load(calib_json_path.open())['trial_id'] for calib_json_path in calib_json_paths])\n",
    "        if len(calib_trial_ids) > 0:\n",
    "            for trial_id in calib_trial_ids:\n",
    "                use_df.loc[use_df.trial_id==trial_id, 'use_flag'] = 1\n",
    "\n",
    "    use_csv_path = use_ignore_json_path.parent.joinpath('trial_id_flags.csv')\n",
    "    use_df.to_csv(use_csv_path.as_posix(), index=False)\n",
    "    \n",
    "# for use_ignore_json_path in use_ignore_json_paths:\n",
    "#     os.remove(use_ignore_json_path.as_posix())\n",
    "\n",
    "```"
   ]
  },
  {
   "cell_type": "code",
   "execution_count": null,
   "metadata": {},
   "outputs": [],
   "source": []
  }
 ],
 "metadata": {
  "kernelspec": {
   "display_name": "Python 3",
   "language": "python",
   "name": "python3"
  },
  "language_info": {
   "codemirror_mode": {
    "name": "ipython",
    "version": 3
   },
   "file_extension": ".py",
   "mimetype": "text/x-python",
   "name": "python",
   "nbconvert_exporter": "python",
   "pygments_lexer": "ipython3",
   "version": "3.8.5"
  }
 },
 "nbformat": 4,
 "nbformat_minor": 4
}
